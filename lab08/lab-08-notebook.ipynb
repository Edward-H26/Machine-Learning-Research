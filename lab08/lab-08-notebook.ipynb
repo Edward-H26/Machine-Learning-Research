{
 "cells": [
  {
   "cell_type": "markdown",
   "metadata": {},
   "source": [
    "# Lab 08: Airline Tweets Sentiment Analysis"
   ]
  },
  {
   "cell_type": "markdown",
   "metadata": {},
   "source": [
    "---\n",
    "author: Qiran Hu\n",
    "date: November 8, 2024\n",
    "embed-resources: true\n",
    "---"
   ]
  },
  {
   "cell_type": "markdown",
   "metadata": {},
   "source": [
    "## Introduction"
   ]
  },
  {
   "cell_type": "markdown",
   "metadata": {},
   "source": [
    "In this research, we aim to develop a sentiment classifier that accurately categorizes tweets about our airline as negative, neutral, or positive. Air travel can often be a challenging and sometimes miserable experience for passengers which lead many passengers to express their frustrations or seek support on the platform formerly known as Twitter. Travelers frequently utilize social media to complain about issues such as delayed flights, lost luggage, or poor customer service. For example, customers might engage in negative tweets on account of their terrible experiences while other customers might share positive experiences.\n",
    "\n",
    "Traditionally, the customer service representatives from each airline have manually monitored and responded to these tweets to provide support and maintain our airline's reputation. However, the huge amount of tweets and the rapid pace of social media make it increasingly challenging to address every concern promptly and efficiently. Instead of solely relying on human to process these tweets, we propose to utilize advanced machine learning models to classify and analyze these tweets more effectively.\n",
    "\n",
    "By training our model on historical tweets and their associated sentiments from the Twitter US Airline Sentiment dataset which is originally sourced from Kaggle and containing tweets from February 2015, we aim to create an effective and useful machine learning model that automatically classifies tweets at these airlines. This dataset has been modified to focus on feature variables of sentiment, text, and airline, which are crucial for our analysis. For instance, the dataset includes tweets like complain tweets labeled as negative and compliment tweets labeled as positive.\n",
    "\n",
    "By implementing this model, we aim to improve our customer service by engaging with customers on social media platforms where they frequently express their experiences. Hence, this approach enhancing our customer service as well as improving each airline's reputation through important feedback from all the customers.\n",
    "\n",
    "Although our model significantly improves the processing of social media communications, it is  important to acknowledge its limitations since this model may not capture all the nuances and contexts inherent in human language, such as sarcasm, idiomatic expressions, or complex sentiments expressed in lengthy tweets. For instance, a sarcastic tweet might be misclassified without human insight. Therefore, the sentiment classifier should be used in conjunction with human oversight to ensure the highest quality of customer engagement. As one can see, by utilizing machine learning models for sentiment analysis, we hope to assist each airline to better navigate the dynamic landscape of social media interactions and improve customer satisfaction in the near future."
   ]
  },
  {
   "cell_type": "markdown",
   "metadata": {},
   "source": [
    "## Methods"
   ]
  },
  {
   "cell_type": "code",
   "execution_count": 1,
   "metadata": {},
   "outputs": [],
   "source": [
    "# imports\n",
    "import numpy as np\n",
    "import pandas as pd\n",
    "from joblib import parallel_backend\n",
    "import seaborn as sns\n",
    "\n",
    "# data generation and loading\n",
    "from sklearn.datasets import make_blobs\n",
    "from sklearn.datasets import make_regression\n",
    "from sklearn.model_selection import train_test_split\n",
    "\n",
    "# plotting\n",
    "import matplotlib.pyplot as plt\n",
    "import matplotlib.colors\n",
    "from sklearn.inspection import DecisionBoundaryDisplay\n",
    "from sklearn.tree import plot_tree\n",
    "from sklearn.tree import export_text\n",
    "\n",
    "# basic classification\n",
    "from sklearn.tree import DecisionTreeClassifier\n",
    "from sklearn.neighbors import KNeighborsClassifier\n",
    "from sklearn.linear_model import LogisticRegression\n",
    "\n",
    "# basic regression\n",
    "from sklearn.tree import DecisionTreeRegressor\n",
    "from sklearn.neighbors import KNeighborsRegressor\n",
    "from sklearn.linear_model import LinearRegression\n",
    "\n",
    "# ensembles for classification\n",
    "from sklearn.ensemble import VotingClassifier\n",
    "from sklearn.ensemble import RandomForestClassifier\n",
    "from sklearn.ensemble import HistGradientBoostingClassifier\n",
    "\n",
    "# ensembles for regression\n",
    "from sklearn.ensemble import VotingRegressor\n",
    "from sklearn.ensemble import RandomForestRegressor\n",
    "from sklearn.ensemble import HistGradientBoostingRegressor\n",
    "\n",
    "# model tuning and preprocessing\n",
    "from sklearn.pipeline import Pipeline\n",
    "from sklearn.compose import ColumnTransformer\n",
    "from sklearn.impute import SimpleImputer\n",
    "from sklearn.preprocessing import StandardScaler, OneHotEncoder\n",
    "from sklearn.model_selection import GridSearchCV\n",
    "\n",
    "# model metrics\n",
    "from sklearn.metrics import root_mean_squared_error\n",
    "from sklearn.metrics import accuracy_score\n",
    "from sklearn.ensemble import RandomForestClassifier\n",
    "from sklearn.metrics import (\n",
    "    accuracy_score,\n",
    "    fbeta_score,\n",
    "    make_scorer,\n",
    "    precision_score,\n",
    "    recall_score,\n",
    ")\n",
    "\n",
    "from pprint import pprint\n",
    "\n",
    "# other libraries\n",
    "from sklearn.model_selection import GridSearchCV, train_test_split\n",
    "from sklearn.feature_extraction.text import CountVectorizer\n",
    "import warnings\n",
    "from sklearn.exceptions import FitFailedWarning\n",
    "warnings.filterwarnings(\"ignore\")\n"
   ]
  },
  {
   "cell_type": "markdown",
   "metadata": {},
   "source": [
    "### Data"
   ]
  },
  {
   "cell_type": "code",
   "execution_count": 2,
   "metadata": {},
   "outputs": [],
   "source": [
    "# load data\n",
    "tweets = pd.read_csv(\n",
    "    \"https://cs307.org/lab-08/data/tweets.csv\",\n",
    ")"
   ]
  },
  {
   "cell_type": "code",
   "execution_count": 3,
   "metadata": {},
   "outputs": [
    {
     "data": {
      "text/html": [
       "<div>\n",
       "<style scoped>\n",
       "    .dataframe tbody tr th:only-of-type {\n",
       "        vertical-align: middle;\n",
       "    }\n",
       "\n",
       "    .dataframe tbody tr th {\n",
       "        vertical-align: top;\n",
       "    }\n",
       "\n",
       "    .dataframe thead th {\n",
       "        text-align: right;\n",
       "    }\n",
       "</style>\n",
       "<table border=\"1\" class=\"dataframe\">\n",
       "  <thead>\n",
       "    <tr style=\"text-align: right;\">\n",
       "      <th></th>\n",
       "      <th>sentiment</th>\n",
       "      <th>airline</th>\n",
       "      <th>text</th>\n",
       "    </tr>\n",
       "  </thead>\n",
       "  <tbody>\n",
       "    <tr>\n",
       "      <th>0</th>\n",
       "      <td>negative</td>\n",
       "      <td>United</td>\n",
       "      <td>@united at its worse. Can't figure how to pack...</td>\n",
       "    </tr>\n",
       "    <tr>\n",
       "      <th>1</th>\n",
       "      <td>negative</td>\n",
       "      <td>Delta</td>\n",
       "      <td>@JetBlue I did not report the updated info - d...</td>\n",
       "    </tr>\n",
       "    <tr>\n",
       "      <th>2</th>\n",
       "      <td>negative</td>\n",
       "      <td>Delta</td>\n",
       "      <td>@JetBlue I'll give u a chance but I don't thin...</td>\n",
       "    </tr>\n",
       "    <tr>\n",
       "      <th>3</th>\n",
       "      <td>negative</td>\n",
       "      <td>United</td>\n",
       "      <td>@united Yo yo yo stuck on the tarmac for over ...</td>\n",
       "    </tr>\n",
       "    <tr>\n",
       "      <th>4</th>\n",
       "      <td>negative</td>\n",
       "      <td>US Airways</td>\n",
       "      <td>@USAirways yes, I was rebooked the next day (W...</td>\n",
       "    </tr>\n",
       "    <tr>\n",
       "      <th>...</th>\n",
       "      <td>...</td>\n",
       "      <td>...</td>\n",
       "      <td>...</td>\n",
       "    </tr>\n",
       "    <tr>\n",
       "      <th>10975</th>\n",
       "      <td>positive</td>\n",
       "      <td>Southwest</td>\n",
       "      <td>@SouthwestAir replacing @vitaminwater with bee...</td>\n",
       "    </tr>\n",
       "    <tr>\n",
       "      <th>10976</th>\n",
       "      <td>negative</td>\n",
       "      <td>American</td>\n",
       "      <td>@AmericanAir at LAX and your service reps just...</td>\n",
       "    </tr>\n",
       "    <tr>\n",
       "      <th>10977</th>\n",
       "      <td>negative</td>\n",
       "      <td>Southwest</td>\n",
       "      <td>@SouthwestAir Been on hold for over an hour - ...</td>\n",
       "    </tr>\n",
       "    <tr>\n",
       "      <th>10978</th>\n",
       "      <td>negative</td>\n",
       "      <td>United</td>\n",
       "      <td>@united we would...how do I contact you to dis...</td>\n",
       "    </tr>\n",
       "    <tr>\n",
       "      <th>10979</th>\n",
       "      <td>neutral</td>\n",
       "      <td>Delta</td>\n",
       "      <td>@JetBlue that's ok! It just sure seemed like i...</td>\n",
       "    </tr>\n",
       "  </tbody>\n",
       "</table>\n",
       "<p>10980 rows × 3 columns</p>\n",
       "</div>"
      ],
      "text/plain": [
       "      sentiment     airline                                               text\n",
       "0      negative      United  @united at its worse. Can't figure how to pack...\n",
       "1      negative       Delta  @JetBlue I did not report the updated info - d...\n",
       "2      negative       Delta  @JetBlue I'll give u a chance but I don't thin...\n",
       "3      negative      United  @united Yo yo yo stuck on the tarmac for over ...\n",
       "4      negative  US Airways  @USAirways yes, I was rebooked the next day (W...\n",
       "...         ...         ...                                                ...\n",
       "10975  positive   Southwest  @SouthwestAir replacing @vitaminwater with bee...\n",
       "10976  negative    American  @AmericanAir at LAX and your service reps just...\n",
       "10977  negative   Southwest  @SouthwestAir Been on hold for over an hour - ...\n",
       "10978  negative      United  @united we would...how do I contact you to dis...\n",
       "10979   neutral       Delta  @JetBlue that's ok! It just sure seemed like i...\n",
       "\n",
       "[10980 rows x 3 columns]"
      ]
     },
     "execution_count": 3,
     "metadata": {},
     "output_type": "execute_result"
    }
   ],
   "source": [
    "tweets"
   ]
  },
  {
   "cell_type": "markdown",
   "metadata": {},
   "source": [
    "To achieve the goal of this research, we will need previous tweets and their sentiment. The necessary data is provided in the following files:\n",
    "\n",
    "Twitter US Airline Sentiment Data: tweets.csv"
   ]
  },
  {
   "cell_type": "markdown",
   "metadata": {},
   "source": [
    "### Source\n",
    "\n",
    "The data for this research originally comes from Kaggle.\n",
    "\n",
    "Kaggle: Twitter US Airline Sentiment\n",
    "A sentiment analysis job about the problems of each major U.S. airline. Twitter data was scraped from February of 2015 and contributors were asked to first classify positive, negative, and neutral tweets, followed by categorizing negative reasons (such as “late flight” or “rude service”).\n",
    "\n",
    "We are providing a modified version of this data for this research. Modifications include:\n",
    "\n",
    "Keeping only the airline_sentiment, text, and airline variables.\n",
    "Withholding some data that will be considered the production data."
   ]
  },
  {
   "cell_type": "markdown",
   "metadata": {},
   "source": [
    "### Data Dictionary\n",
    "\n",
    "Each observation in the train, test, and (hidden) production data contains information about a particular tweet.\n",
    "\n",
    "#### Response Variable\n",
    "\n",
    "**`sentiment`** - `[object]` the sentiment of the tweet. One of negative, neutral, or positive.\n",
    "\n",
    "#### Feature Variable\n",
    "\n",
    "**`text`** - `[object]` the full text of the tweet.\n",
    "\n",
    "#### Additional Variable\n",
    "\n",
    "**`airline`** - `[object]` the airline the tweet was “sent” to."
   ]
  },
  {
   "cell_type": "code",
   "execution_count": 4,
   "metadata": {},
   "outputs": [],
   "source": [
    "tweets_train, tweets_test = train_test_split(\n",
    "    tweets,\n",
    "    test_size=0.25,\n",
    "    random_state=42,\n",
    ")"
   ]
  },
  {
   "cell_type": "code",
   "execution_count": 5,
   "metadata": {},
   "outputs": [],
   "source": [
    "# create X and y for train data\n",
    "X_train = tweets_train[\"text\"]\n",
    "y_train = tweets_train[\"sentiment\"]\n",
    "\n",
    "# create X and y for test data\n",
    "X_test = tweets_test[\"text\"]\n",
    "y_test = tweets_test[\"sentiment\"]"
   ]
  },
  {
   "cell_type": "code",
   "execution_count": 6,
   "metadata": {},
   "outputs": [
    {
     "data": {
      "text/plain": [
       "2233     @JetBlue Then en route to the airport the rebo...\n",
       "10733    @united now you've lost my bags too.  At least...\n",
       "400      @USAirways Hi, can you attach my AA FF# 94LXA6...\n",
       "7615     @United, will you fill it? Yes they will. Than...\n",
       "4099     @AmericanAir thanks! I hope we get movies. Tv'...\n",
       "                               ...                        \n",
       "5734     @united Can i get a refund? I would like to bo...\n",
       "5191     @VirginAmerica what is your policy on flying a...\n",
       "5390     @united I'm not sure how you can help. Your fl...\n",
       "860      @VirginAmerica LAX to EWR - Middle seat on a r...\n",
       "7270     @united Hopefully my baggage fees will be waiv...\n",
       "Name: text, Length: 8235, dtype: object"
      ]
     },
     "execution_count": 6,
     "metadata": {},
     "output_type": "execute_result"
    }
   ],
   "source": [
    "X_train"
   ]
  },
  {
   "cell_type": "code",
   "execution_count": 7,
   "metadata": {},
   "outputs": [],
   "source": [
    "word_counter = CountVectorizer()"
   ]
  },
  {
   "cell_type": "code",
   "execution_count": 8,
   "metadata": {},
   "outputs": [],
   "source": [
    "word_counts = word_counter.fit_transform(\n",
    "    [\n",
    "        \"Buffalo buffalo Buffalo buffalo buffalo buffalo Buffalo buffalo\",\n",
    "        \"The quick brown fox jumps over the lazy dog\",\n",
    "        \"\",\n",
    "    ]\n",
    ").todense()"
   ]
  },
  {
   "cell_type": "code",
   "execution_count": 9,
   "metadata": {},
   "outputs": [
    {
     "name": "stdout",
     "output_type": "stream",
     "text": [
      "buffalo: 1\n",
      "the: 8\n",
      "quick: 7\n",
      "brown: 0\n",
      "fox: 3\n",
      "jumps: 4\n",
      "over: 6\n",
      "lazy: 5\n",
      "dog: 2\n"
     ]
    }
   ],
   "source": [
    "for key, value in word_counter.vocabulary_.items():\n",
    "    print(f\"{key}: {value}\")"
   ]
  },
  {
   "cell_type": "code",
   "execution_count": 10,
   "metadata": {},
   "outputs": [
    {
     "name": "stdout",
     "output_type": "stream",
     "text": [
      "[[0 8 0 0 0 0 0 0 0]\n",
      " [1 0 1 1 1 1 1 1 2]\n",
      " [0 0 0 0 0 0 0 0 0]]\n"
     ]
    }
   ],
   "source": [
    "print(word_counts)"
   ]
  },
  {
   "cell_type": "code",
   "execution_count": 11,
   "metadata": {},
   "outputs": [
    {
     "data": {
      "text/html": [
       "<div>\n",
       "<style scoped>\n",
       "    .dataframe tbody tr th:only-of-type {\n",
       "        vertical-align: middle;\n",
       "    }\n",
       "\n",
       "    .dataframe tbody tr th {\n",
       "        vertical-align: top;\n",
       "    }\n",
       "\n",
       "    .dataframe thead th {\n",
       "        text-align: right;\n",
       "    }\n",
       "</style>\n",
       "<table border=\"1\" class=\"dataframe\">\n",
       "  <thead>\n",
       "    <tr style=\"text-align: right;\">\n",
       "      <th></th>\n",
       "      <th>brown</th>\n",
       "      <th>buffalo</th>\n",
       "      <th>dog</th>\n",
       "      <th>fox</th>\n",
       "      <th>jumps</th>\n",
       "      <th>lazy</th>\n",
       "      <th>over</th>\n",
       "      <th>quick</th>\n",
       "      <th>the</th>\n",
       "    </tr>\n",
       "  </thead>\n",
       "  <tbody>\n",
       "    <tr>\n",
       "      <th>0</th>\n",
       "      <td>0</td>\n",
       "      <td>8</td>\n",
       "      <td>0</td>\n",
       "      <td>0</td>\n",
       "      <td>0</td>\n",
       "      <td>0</td>\n",
       "      <td>0</td>\n",
       "      <td>0</td>\n",
       "      <td>0</td>\n",
       "    </tr>\n",
       "    <tr>\n",
       "      <th>1</th>\n",
       "      <td>1</td>\n",
       "      <td>0</td>\n",
       "      <td>1</td>\n",
       "      <td>1</td>\n",
       "      <td>1</td>\n",
       "      <td>1</td>\n",
       "      <td>1</td>\n",
       "      <td>1</td>\n",
       "      <td>2</td>\n",
       "    </tr>\n",
       "    <tr>\n",
       "      <th>2</th>\n",
       "      <td>0</td>\n",
       "      <td>0</td>\n",
       "      <td>0</td>\n",
       "      <td>0</td>\n",
       "      <td>0</td>\n",
       "      <td>0</td>\n",
       "      <td>0</td>\n",
       "      <td>0</td>\n",
       "      <td>0</td>\n",
       "    </tr>\n",
       "  </tbody>\n",
       "</table>\n",
       "</div>"
      ],
      "text/plain": [
       "   brown  buffalo  dog  fox  jumps  lazy  over  quick  the\n",
       "0      0        8    0    0      0     0     0      0    0\n",
       "1      1        0    1    1      1     1     1      1    2\n",
       "2      0        0    0    0      0     0     0      0    0"
      ]
     },
     "execution_count": 11,
     "metadata": {},
     "output_type": "execute_result"
    }
   ],
   "source": [
    "pd.DataFrame(\n",
    "    word_counts,\n",
    "    columns=sorted(list(word_counter.vocabulary_.keys())),\n",
    ")"
   ]
  },
  {
   "cell_type": "code",
   "execution_count": 12,
   "metadata": {},
   "outputs": [
    {
     "name": "stdout",
     "output_type": "stream",
     "text": [
      "Top 100 Words:\n",
      "['about' 'after' 'again' 'airline' 'all' 'am' 'americanair' 'amp' 'an'\n",
      " 'and' 'any' 'are' 'as' 'at' 'back' 'bag' 'be' 'been' 'but' 'by' 'call'\n",
      " 'can' 'cancelled' 'co' 'customer' 'delayed' 'do' 'don' 'flight'\n",
      " 'flightled' 'flights' 'for' 'from' 'gate' 'get' 'got' 'had' 'has' 'have'\n",
      " 'help' 'hold' 'hour' 'hours' 'how' 'http' 'if' 'in' 'is' 'it' 'jetblue'\n",
      " 'just' 'late' 'like' 'me' 'my' 'need' 'no' 'not' 'now' 'of' 'on' 'one'\n",
      " 'or' 'our' 'out' 'over' 'phone' 'plane' 'please' 're' 'service' 'so'\n",
      " 'southwestair' 'still' 'thank' 'thanks' 'that' 'the' 'there' 'they'\n",
      " 'this' 'time' 'to' 'today' 'united' 'up' 'us' 'usairways' 've'\n",
      " 'virginamerica' 'was' 'we' 'what' 'when' 'why' 'will' 'with' 'would'\n",
      " 'you' 'your']\n",
      "\n"
     ]
    }
   ],
   "source": [
    "top_100_counter = CountVectorizer(max_features=100)\n",
    "X_top_100 = top_100_counter.fit_transform(X_train)\n",
    "print(\"Top 100 Words:\")\n",
    "print(top_100_counter.get_feature_names_out())\n",
    "print(\"\")"
   ]
  },
  {
   "cell_type": "code",
   "execution_count": 13,
   "metadata": {},
   "outputs": [
    {
     "data": {
      "text/plain": [
       "matrix([[0, 0, 0, ..., 0, 0, 0],\n",
       "        [0, 0, 0, ..., 0, 1, 0],\n",
       "        [0, 0, 0, ..., 0, 1, 0],\n",
       "        ...,\n",
       "        [0, 0, 0, ..., 0, 1, 1],\n",
       "        [0, 0, 0, ..., 0, 0, 0],\n",
       "        [0, 0, 0, ..., 0, 0, 0]])"
      ]
     },
     "execution_count": 13,
     "metadata": {},
     "output_type": "execute_result"
    }
   ],
   "source": [
    "X_top_100_dense = X_top_100.todense()\n",
    "X_top_100_dense"
   ]
  },
  {
   "cell_type": "code",
   "execution_count": 14,
   "metadata": {},
   "outputs": [
    {
     "data": {
      "text/plain": [
       "(8235, 100)"
      ]
     },
     "execution_count": 14,
     "metadata": {},
     "output_type": "execute_result"
    }
   ],
   "source": [
    "X_top_100.shape"
   ]
  },
  {
   "cell_type": "code",
   "execution_count": 15,
   "metadata": {},
   "outputs": [
    {
     "name": "stdout",
     "output_type": "stream",
     "text": [
      "The Word \"plane\" Appears: 362\n"
     ]
    }
   ],
   "source": [
    "plane_idx = np.where(top_100_counter.get_feature_names_out() == \"plane\")\n",
    "plane_count = np.sum(X_top_100.todense()[:, plane_idx])\n",
    "print('The Word \"plane\" Appears:', plane_count)"
   ]
  },
  {
   "cell_type": "code",
   "execution_count": 16,
   "metadata": {},
   "outputs": [
    {
     "data": {
      "text/plain": [
       "8235"
      ]
     },
     "execution_count": 16,
     "metadata": {},
     "output_type": "execute_result"
    }
   ],
   "source": [
    "# summary statistics\n",
    "tweets_train.shape[0]"
   ]
  },
  {
   "cell_type": "code",
   "execution_count": 17,
   "metadata": {},
   "outputs": [
    {
     "data": {
      "text/plain": [
       "3"
      ]
     },
     "execution_count": 17,
     "metadata": {},
     "output_type": "execute_result"
    }
   ],
   "source": [
    "tweets_train.shape[1]"
   ]
  },
  {
   "cell_type": "code",
   "execution_count": 18,
   "metadata": {},
   "outputs": [
    {
     "data": {
      "text/plain": [
       "2166"
      ]
     },
     "execution_count": 18,
     "metadata": {},
     "output_type": "execute_result"
    }
   ],
   "source": [
    "len(tweets_train[tweets_train[\"airline\"] == \"United\"])"
   ]
  },
  {
   "cell_type": "code",
   "execution_count": 19,
   "metadata": {},
   "outputs": [
    {
     "data": {
      "text/plain": [
       "0.263023679417122"
      ]
     },
     "execution_count": 19,
     "metadata": {},
     "output_type": "execute_result"
    }
   ],
   "source": [
    "len(tweets_train[tweets_train[\"airline\"] == \"United\"]) / len(tweets_train)"
   ]
  },
  {
   "cell_type": "code",
   "execution_count": 20,
   "metadata": {},
   "outputs": [
    {
     "data": {
      "text/plain": [
       "1664"
      ]
     },
     "execution_count": 20,
     "metadata": {},
     "output_type": "execute_result"
    }
   ],
   "source": [
    "len(tweets_train[tweets_train[\"airline\"] == \"US Airways\"])"
   ]
  },
  {
   "cell_type": "code",
   "execution_count": 21,
   "metadata": {},
   "outputs": [
    {
     "data": {
      "text/plain": [
       "0.20206435944140863"
      ]
     },
     "execution_count": 21,
     "metadata": {},
     "output_type": "execute_result"
    }
   ],
   "source": [
    "len(tweets_train[tweets_train[\"airline\"] == \"US Airways\"]) / len(tweets_train)"
   ]
  },
  {
   "cell_type": "code",
   "execution_count": 22,
   "metadata": {},
   "outputs": [
    {
     "data": {
      "text/plain": [
       "1551"
      ]
     },
     "execution_count": 22,
     "metadata": {},
     "output_type": "execute_result"
    }
   ],
   "source": [
    "len(tweets_train[tweets_train[\"airline\"] == \"American\"])"
   ]
  },
  {
   "cell_type": "code",
   "execution_count": 23,
   "metadata": {},
   "outputs": [
    {
     "data": {
      "text/plain": [
       "0.1883424408014572"
      ]
     },
     "execution_count": 23,
     "metadata": {},
     "output_type": "execute_result"
    }
   ],
   "source": [
    "len(tweets_train[tweets_train[\"airline\"] == \"American\"]) / len(tweets_train)"
   ]
  },
  {
   "cell_type": "code",
   "execution_count": 24,
   "metadata": {},
   "outputs": [
    {
     "data": {
      "text/plain": [
       "1347"
      ]
     },
     "execution_count": 24,
     "metadata": {},
     "output_type": "execute_result"
    }
   ],
   "source": [
    "len(tweets_train[tweets_train[\"airline\"] == \"Southwest\"])"
   ]
  },
  {
   "cell_type": "code",
   "execution_count": 25,
   "metadata": {},
   "outputs": [
    {
     "data": {
      "text/plain": [
       "0.16357012750455374"
      ]
     },
     "execution_count": 25,
     "metadata": {},
     "output_type": "execute_result"
    }
   ],
   "source": [
    "len(tweets_train[tweets_train[\"airline\"] == \"Southwest\"]) / len(X_train)"
   ]
  },
  {
   "cell_type": "code",
   "execution_count": 26,
   "metadata": {},
   "outputs": [
    {
     "data": {
      "text/plain": [
       "1239"
      ]
     },
     "execution_count": 26,
     "metadata": {},
     "output_type": "execute_result"
    }
   ],
   "source": [
    "len(tweets_train[tweets_train[\"airline\"] == \"Delta\"])"
   ]
  },
  {
   "cell_type": "code",
   "execution_count": 27,
   "metadata": {},
   "outputs": [
    {
     "data": {
      "text/plain": [
       "0.15045537340619308"
      ]
     },
     "execution_count": 27,
     "metadata": {},
     "output_type": "execute_result"
    }
   ],
   "source": [
    "len(tweets_train[tweets_train[\"airline\"] == \"Delta\"]) / len(X_train)"
   ]
  },
  {
   "cell_type": "code",
   "execution_count": 28,
   "metadata": {},
   "outputs": [
    {
     "data": {
      "text/plain": [
       "268"
      ]
     },
     "execution_count": 28,
     "metadata": {},
     "output_type": "execute_result"
    }
   ],
   "source": [
    "len(tweets_train[tweets_train[\"airline\"] == \"Virgin America\"])"
   ]
  },
  {
   "cell_type": "code",
   "execution_count": 29,
   "metadata": {},
   "outputs": [
    {
     "data": {
      "text/plain": [
       "0.03254401942926533"
      ]
     },
     "execution_count": 29,
     "metadata": {},
     "output_type": "execute_result"
    }
   ],
   "source": [
    "len(tweets_train[tweets_train[\"airline\"] == \"Virgin America\"]) / len(X_train)"
   ]
  },
  {
   "cell_type": "code",
   "execution_count": 30,
   "metadata": {},
   "outputs": [
    {
     "name": "stdout",
     "output_type": "stream",
     "text": [
      "The Word \"cancelled\" Appears: 595\n"
     ]
    }
   ],
   "source": [
    "plane_idx = np.where(top_100_counter.get_feature_names_out() == \"cancelled\")\n",
    "plane_count = np.sum(X_top_100.todense()[:, plane_idx])\n",
    "print('The Word \"cancelled\" Appears:', plane_count)"
   ]
  },
  {
   "cell_type": "code",
   "execution_count": 31,
   "metadata": {},
   "outputs": [
    {
     "name": "stdout",
     "output_type": "stream",
     "text": [
      "The Word \"please\" Appears: 325\n"
     ]
    }
   ],
   "source": [
    "plane_idx = np.where(top_100_counter.get_feature_names_out() == \"please\")\n",
    "plane_count = np.sum(X_top_100.todense()[:, plane_idx])\n",
    "print('The Word \"please\" Appears:', plane_count)"
   ]
  },
  {
   "cell_type": "code",
   "execution_count": 32,
   "metadata": {},
   "outputs": [
    {
     "name": "stdout",
     "output_type": "stream",
     "text": [
      "The Word \"thanks\" Appears: 587\n"
     ]
    }
   ],
   "source": [
    "plane_idx = np.where(top_100_counter.get_feature_names_out() == \"thanks\")\n",
    "plane_count = np.sum(X_top_100.todense()[:, plane_idx])\n",
    "print('The Word \"thanks\" Appears:', plane_count)"
   ]
  },
  {
   "cell_type": "markdown",
   "metadata": {},
   "source": [
    "The dataset provides valuable insights into airline tweet sentiments and customer feedback by offering useful information for sentiment analysis and service improvement strategies. The tweets are classified into three sentiment categories which are negative, neutral, and positive. With a majority of negative tweets in this dataset, this finding indicates that customers often use social media to express their complaints and dissatisfactions with airline services. The distribution of tweets across airlines reveals that United Airlines has the highest number of tweets with 2166 related tweets which is around 26.2% of the total tweets. US Airways has the second highest number of tweets with 1664 related tweets which is around 20% of the total tweets. American Airlines has the third highest number of tweets with 1551 related tweets which is around 18.8% of the total tweets. Southwest has the fourth highest number of tweets with 1347 related tweets which is around 16.5% of the total tweets. Delta has the fifth highest number of tweets with 1239 related tweets which is around 15% of the total tweets. Lastly, Virgin America has the smallest representation with only 268 related tweets which is around 3.3% of the total tweets. Hence, these summary statistics illustrate various levels of customer interaction and engagement across different airlines.\n",
    "\n",
    "The frequent use of specific words offers a different perspective in analyzing customer tweets. For instance, the word cancelled appears 595 times which reflects a significant operational challenge faced by airlines. This high frequency demonstrates that flight cancellations are a common issue that customers complain about which emphasizes the importance of addressing this issue in order to improve overall customer satisfaction. Interestingly, the word thanks appears 587 times which suggests that a substantial number of tweets express gratitude towards different airlines. These positive mentions could be related to successful resolutions of issues, such as good service experiences or effective customer support interactions. Thus, this result provides significant evidence that there is still a noticeable proportion of customer appreciation despite the astonishing amount of negative sentiments in this dataset, which means that different airlines could build stronger relationships with their customers by reflecting on these tweets from their customers. Furthermore, the word please appears 325 times which shows that there are various requests or appeals made by customers who are seeking assistance or resolutions to their problems. The presence of such words in the dataset signals the need for improved communication and customer service from different airlines to address these requests efficiently which highlights the importance of customer service as a crucial factor in shaping the overall sentiment and perception of different airlines.\n",
    "\n",
    "Hence, the analysis of word occurrences provides helpful insights for airlines to prioritize their efforts where the high occurrences of cancelled demonstrate the urge to minimize cancellations and streamline rebooking processes. The appearance of thanks indicates areas where airlines have successfully met customer expectations. By addressing customer requests, the high frequency the word please illustrates that different airlines can improve foster a more positive customer experience. These trends indicate the importance of analyzing customer feedback in order to uncover specific issues and opportunities for improving service quality and satisfaction.\n",
    "\n",
    "As one can see, the dataset provides a clear opportunity for airlines to identify and address service challenges. The high frequency of words like cancelled shows that there are various issues could be addressed in order to improve customer experiences in the near future. Meanwhile, analyzing the positive sentiment seen with airlines like Southwest and Virgin America could increase customer engagement and satisfaction. By correctly utilizing the information from this dataset, different airlines can focus on resolving common complaints, amplifying positive experiences, and improving their overall service and communication strategies to strengthen their brand perception and improve customer loyalty."
   ]
  },
  {
   "cell_type": "code",
   "execution_count": 33,
   "metadata": {},
   "outputs": [
    {
     "data": {
      "text/plain": [
       "<Figure size 1000x600 with 0 Axes>"
      ]
     },
     "metadata": {},
     "output_type": "display_data"
    },
    {
     "data": {
      "image/png": "[encoded data removed]",
      "text/plain": [
       "<Figure size 1000x600 with 1 Axes>"
      ]
     },
     "metadata": {},
     "output_type": "display_data"
    }
   ],
   "source": [
    "# visualizations\n",
    "plt.figure(figsize=(10, 6))\n",
    "sentiment_counts = tweets_train.groupby([\"airline\", \"sentiment\"]).size().unstack().fillna(0)\n",
    "sentiment_counts.plot(kind=\"bar\", stacked=True, color=[\"red\", \"blue\", \"green\"], figsize=(10, 6))\n",
    "plt.title(\"Sentiment Distribution by Airline\")\n",
    "plt.xlabel(\"Airline\")\n",
    "plt.ylabel(\"Number of Tweets\")\n",
    "plt.legend(title=\"Sentiment\", loc=\"upper right\")\n",
    "plt.xticks(rotation=45)\n",
    "plt.show()"
   ]
  },
  {
   "cell_type": "markdown",
   "metadata": {},
   "source": [
    "After carefully observing the graph, the bar chart visualization of sentiment distribution by airline offers a detailed information of customer feedback across various airlines by highlighting the differences in customer satisfaction levels. Since each airline’s sentiment distribution is color coded to represent negative, neutral, and positive sentiments, it is extremely easy to compare customer perceptions based on different airlines.\n",
    "\n",
    "For instance, United Airlines has the highest volume of negative sentiment with a substantial number of tweets in red. It suggests that customers frequently express dissatisfaction with this airline because this trend could be attributed to recurring complaints about delayed flights, poor customer service, or issues with frustrations for airline passengers. Hence, this high level of negative sentiment indicates that United has to work on improving operational efficiency and customer support to address these complains. Similarly, American Airlines shows a high count of negative tweets compared to other airline. It demonstrates that American Airlines also faces significant customer service challenges since presence of numerous negative sentiments could imply that American is facing similar issues as United, which means addressing these issues could help American reduce negative sentiment and enhance customer satisfaction.\n",
    "\n",
    "On the other hand, Southwest Airlines displays a more balanced sentiment distribution with a mix of positive, neutral, and negative tweets. Southwest has a notably larger proportion of positive sentiment compared to United and American which illustrate that customers had better experiences with Southwest. Thus, the presence of a significant amount of positive sentiment shows that Southwest is effectively meeting customer expectations in certain areas and setting itself apart from airlines with predominantly negative sentiment.\n",
    "\n",
    "Like United and American, US Airways has a substantial amount of negative feedback even though it also has some positive and neutral comments. This distribution showcases that there are pockets of positive interactions despite the fact that many customers had negative experiences. However, Virgin America has more balanced sentiment distribution with a relatively small number of negative tweets and a proportionate amount of neutral and positive feedback, which shows that Virgin America provides a more consistent satisfactory experience overall. With a substantial portion of negative tweets as well as positive and neutral feedback, this mix suggests that Delta’s service quality varies with some customers having satisfactory experiences while others encounter issues.\n",
    "\n",
    "As one can see, this bar chart provides a comprehensive view of customer sentiment across airlines by illustrating the areas where each airline excels or faces challenges. For airlines like United and American, the high levels of negative sentiment emphasize the need to address customer service issues. Conversely, the positive feedback for Southwest suggests that there are rooms to improve customer loyalty. As one can see, this visualization is valuable for airlines that are aiming to refine their customer service strategies and focus on areas that impact customer perceptions the most."
   ]
  },
  {
   "cell_type": "markdown",
   "metadata": {},
   "source": [
    "### Models"
   ]
  },
  {
   "cell_type": "code",
   "execution_count": 34,
   "metadata": {},
   "outputs": [],
   "source": [
    "# process data for ML\n",
    "pipeline = Pipeline(\n",
    "    steps=[\n",
    "        (\"Preprocessor\", CountVectorizer()),\n",
    "        (\"regressor\", LogisticRegression()),\n",
    "    ]\n",
    ")"
   ]
  },
  {
   "cell_type": "code",
   "execution_count": 35,
   "metadata": {},
   "outputs": [],
   "source": [
    "param_grid = [\n",
    "    {\n",
    "        \"regressor\": [DecisionTreeRegressor()],\n",
    "        \"regressor__max_depth\": range(1, 30, 10),\n",
    "        'regressor__min_samples_split': range(2, 30, 5),\n",
    "    },\n",
    "    {\n",
    "        \"regressor\": [LogisticRegression(solver=\"liblinear\")],\n",
    "        \"regressor__penalty\": [\"l1\", \"l2\"],\n",
    "        \"regressor__C\": 1 / (10.0 ** np.arange(-4, 3)),\n",
    "    },\n",
    "]"
   ]
  },
  {
   "cell_type": "code",
   "execution_count": 36,
   "metadata": {},
   "outputs": [],
   "source": [
    "# train models\n",
    "mod = GridSearchCV(pipeline, param_grid, cv = 5, scoring='accuracy')"
   ]
  },
  {
   "cell_type": "code",
   "execution_count": 37,
   "metadata": {},
   "outputs": [
    {
     "data": {
      "text/html": [
       "<style>#sk-container-id-1 {\n",
       "  /* Definition of color scheme common for light and dark mode */\n",
       "  --sklearn-color-text: black;\n",
       "  --sklearn-color-line: gray;\n",
       "  /* Definition of color scheme for unfitted estimators */\n",
       "  --sklearn-color-unfitted-level-0: #fff5e6;\n",
       "  --sklearn-color-unfitted-level-1: #f6e4d2;\n",
       "  --sklearn-color-unfitted-level-2: #ffe0b3;\n",
       "  --sklearn-color-unfitted-level-3: chocolate;\n",
       "  /* Definition of color scheme for fitted estimators */\n",
       "  --sklearn-color-fitted-level-0: #f0f8ff;\n",
       "  --sklearn-color-fitted-level-1: #d4ebff;\n",
       "  --sklearn-color-fitted-level-2: #b3dbfd;\n",
       "  --sklearn-color-fitted-level-3: cornflowerblue;\n",
       "\n",
       "  /* Specific color for light theme */\n",
       "  --sklearn-color-text-on-default-background: var(--sg-text-color, var(--theme-code-foreground, var(--jp-content-font-color1, black)));\n",
       "  --sklearn-color-background: var(--sg-background-color, var(--theme-background, var(--jp-layout-color0, white)));\n",
       "  --sklearn-color-border-box: var(--sg-text-color, var(--theme-code-foreground, var(--jp-content-font-color1, black)));\n",
       "  --sklearn-color-icon: #696969;\n",
       "\n",
       "  @media (prefers-color-scheme: dark) {\n",
       "    /* Redefinition of color scheme for dark theme */\n",
       "    --sklearn-color-text-on-default-background: var(--sg-text-color, var(--theme-code-foreground, var(--jp-content-font-color1, white)));\n",
       "    --sklearn-color-background: var(--sg-background-color, var(--theme-background, var(--jp-layout-color0, #111)));\n",
       "    --sklearn-color-border-box: var(--sg-text-color, var(--theme-code-foreground, var(--jp-content-font-color1, white)));\n",
       "    --sklearn-color-icon: #878787;\n",
       "  }\n",
       "}\n",
       "\n",
       "#sk-container-id-1 {\n",
       "  color: var(--sklearn-color-text);\n",
       "}\n",
       "\n",
       "#sk-container-id-1 pre {\n",
       "  padding: 0;\n",
       "}\n",
       "\n",
       "#sk-container-id-1 input.sk-hidden--visually {\n",
       "  border: 0;\n",
       "  clip: rect(1px 1px 1px 1px);\n",
       "  clip: rect(1px, 1px, 1px, 1px);\n",
       "  height: 1px;\n",
       "  margin: -1px;\n",
       "  overflow: hidden;\n",
       "  padding: 0;\n",
       "  position: absolute;\n",
       "  width: 1px;\n",
       "}\n",
       "\n",
       "#sk-container-id-1 div.sk-dashed-wrapped {\n",
       "  border: 1px dashed var(--sklearn-color-line);\n",
       "  margin: 0 0.4em 0.5em 0.4em;\n",
       "  box-sizing: border-box;\n",
       "  padding-bottom: 0.4em;\n",
       "  background-color: var(--sklearn-color-background);\n",
       "}\n",
       "\n",
       "#sk-container-id-1 div.sk-container {\n",
       "  /* jupyter's `normalize.less` sets `[hidden] { display: none; }`\n",
       "     but bootstrap.min.css set `[hidden] { display: none !important; }`\n",
       "     so we also need the `!important` here to be able to override the\n",
       "     default hidden behavior on the sphinx rendered scikit-learn.org.\n",
       "     See: https://github.com/scikit-learn/scikit-learn/issues/21755 */\n",
       "  display: inline-block !important;\n",
       "  position: relative;\n",
       "}\n",
       "\n",
       "#sk-container-id-1 div.sk-text-repr-fallback {\n",
       "  display: none;\n",
       "}\n",
       "\n",
       "div.sk-parallel-item,\n",
       "div.sk-serial,\n",
       "div.sk-item {\n",
       "  /* draw centered vertical line to link estimators */\n",
       "  background-image: linear-gradient(var(--sklearn-color-text-on-default-background), var(--sklearn-color-text-on-default-background));\n",
       "  background-size: 2px 100%;\n",
       "  background-repeat: no-repeat;\n",
       "  background-position: center center;\n",
       "}\n",
       "\n",
       "/* Parallel-specific style estimator block */\n",
       "\n",
       "#sk-container-id-1 div.sk-parallel-item::after {\n",
       "  content: \"\";\n",
       "  width: 100%;\n",
       "  border-bottom: 2px solid var(--sklearn-color-text-on-default-background);\n",
       "  flex-grow: 1;\n",
       "}\n",
       "\n",
       "#sk-container-id-1 div.sk-parallel {\n",
       "  display: flex;\n",
       "  align-items: stretch;\n",
       "  justify-content: center;\n",
       "  background-color: var(--sklearn-color-background);\n",
       "  position: relative;\n",
       "}\n",
       "\n",
       "#sk-container-id-1 div.sk-parallel-item {\n",
       "  display: flex;\n",
       "  flex-direction: column;\n",
       "}\n",
       "\n",
       "#sk-container-id-1 div.sk-parallel-item:first-child::after {\n",
       "  align-self: flex-end;\n",
       "  width: 50%;\n",
       "}\n",
       "\n",
       "#sk-container-id-1 div.sk-parallel-item:last-child::after {\n",
       "  align-self: flex-start;\n",
       "  width: 50%;\n",
       "}\n",
       "\n",
       "#sk-container-id-1 div.sk-parallel-item:only-child::after {\n",
       "  width: 0;\n",
       "}\n",
       "\n",
       "/* Serial-specific style estimator block */\n",
       "\n",
       "#sk-container-id-1 div.sk-serial {\n",
       "  display: flex;\n",
       "  flex-direction: column;\n",
       "  align-items: center;\n",
       "  background-color: var(--sklearn-color-background);\n",
       "  padding-right: 1em;\n",
       "  padding-left: 1em;\n",
       "}\n",
       "\n",
       "\n",
       "/* Toggleable style: style used for estimator/Pipeline/ColumnTransformer box that is\n",
       "clickable and can be expanded/collapsed.\n",
       "- Pipeline and ColumnTransformer use this feature and define the default style\n",
       "- Estimators will overwrite some part of the style using the `sk-estimator` class\n",
       "*/\n",
       "\n",
       "/* Pipeline and ColumnTransformer style (default) */\n",
       "\n",
       "#sk-container-id-1 div.sk-toggleable {\n",
       "  /* Default theme specific background. It is overwritten whether we have a\n",
       "  specific estimator or a Pipeline/ColumnTransformer */\n",
       "  background-color: var(--sklearn-color-background);\n",
       "}\n",
       "\n",
       "/* Toggleable label */\n",
       "#sk-container-id-1 label.sk-toggleable__label {\n",
       "  cursor: pointer;\n",
       "  display: block;\n",
       "  width: 100%;\n",
       "  margin-bottom: 0;\n",
       "  padding: 0.5em;\n",
       "  box-sizing: border-box;\n",
       "  text-align: center;\n",
       "}\n",
       "\n",
       "#sk-container-id-1 label.sk-toggleable__label-arrow:before {\n",
       "  /* Arrow on the left of the label */\n",
       "  content: \"▸\";\n",
       "  float: left;\n",
       "  margin-right: 0.25em;\n",
       "  color: var(--sklearn-color-icon);\n",
       "}\n",
       "\n",
       "#sk-container-id-1 label.sk-toggleable__label-arrow:hover:before {\n",
       "  color: var(--sklearn-color-text);\n",
       "}\n",
       "\n",
       "/* Toggleable content - dropdown */\n",
       "\n",
       "#sk-container-id-1 div.sk-toggleable__content {\n",
       "  max-height: 0;\n",
       "  max-width: 0;\n",
       "  overflow: hidden;\n",
       "  text-align: left;\n",
       "  /* unfitted */\n",
       "  background-color: var(--sklearn-color-unfitted-level-0);\n",
       "}\n",
       "\n",
       "#sk-container-id-1 div.sk-toggleable__content.fitted {\n",
       "  /* fitted */\n",
       "  background-color: var(--sklearn-color-fitted-level-0);\n",
       "}\n",
       "\n",
       "#sk-container-id-1 div.sk-toggleable__content pre {\n",
       "  margin: 0.2em;\n",
       "  border-radius: 0.25em;\n",
       "  color: var(--sklearn-color-text);\n",
       "  /* unfitted */\n",
       "  background-color: var(--sklearn-color-unfitted-level-0);\n",
       "}\n",
       "\n",
       "#sk-container-id-1 div.sk-toggleable__content.fitted pre {\n",
       "  /* unfitted */\n",
       "  background-color: var(--sklearn-color-fitted-level-0);\n",
       "}\n",
       "\n",
       "#sk-container-id-1 input.sk-toggleable__control:checked~div.sk-toggleable__content {\n",
       "  /* Expand drop-down */\n",
       "  max-height: 200px;\n",
       "  max-width: 100%;\n",
       "  overflow: auto;\n",
       "}\n",
       "\n",
       "#sk-container-id-1 input.sk-toggleable__control:checked~label.sk-toggleable__label-arrow:before {\n",
       "  content: \"▾\";\n",
       "}\n",
       "\n",
       "/* Pipeline/ColumnTransformer-specific style */\n",
       "\n",
       "#sk-container-id-1 div.sk-label input.sk-toggleable__control:checked~label.sk-toggleable__label {\n",
       "  color: var(--sklearn-color-text);\n",
       "  background-color: var(--sklearn-color-unfitted-level-2);\n",
       "}\n",
       "\n",
       "#sk-container-id-1 div.sk-label.fitted input.sk-toggleable__control:checked~label.sk-toggleable__label {\n",
       "  background-color: var(--sklearn-color-fitted-level-2);\n",
       "}\n",
       "\n",
       "/* Estimator-specific style */\n",
       "\n",
       "/* Colorize estimator box */\n",
       "#sk-container-id-1 div.sk-estimator input.sk-toggleable__control:checked~label.sk-toggleable__label {\n",
       "  /* unfitted */\n",
       "  background-color: var(--sklearn-color-unfitted-level-2);\n",
       "}\n",
       "\n",
       "#sk-container-id-1 div.sk-estimator.fitted input.sk-toggleable__control:checked~label.sk-toggleable__label {\n",
       "  /* fitted */\n",
       "  background-color: var(--sklearn-color-fitted-level-2);\n",
       "}\n",
       "\n",
       "#sk-container-id-1 div.sk-label label.sk-toggleable__label,\n",
       "#sk-container-id-1 div.sk-label label {\n",
       "  /* The background is the default theme color */\n",
       "  color: var(--sklearn-color-text-on-default-background);\n",
       "}\n",
       "\n",
       "/* On hover, darken the color of the background */\n",
       "#sk-container-id-1 div.sk-label:hover label.sk-toggleable__label {\n",
       "  color: var(--sklearn-color-text);\n",
       "  background-color: var(--sklearn-color-unfitted-level-2);\n",
       "}\n",
       "\n",
       "/* Label box, darken color on hover, fitted */\n",
       "#sk-container-id-1 div.sk-label.fitted:hover label.sk-toggleable__label.fitted {\n",
       "  color: var(--sklearn-color-text);\n",
       "  background-color: var(--sklearn-color-fitted-level-2);\n",
       "}\n",
       "\n",
       "/* Estimator label */\n",
       "\n",
       "#sk-container-id-1 div.sk-label label {\n",
       "  font-family: monospace;\n",
       "  font-weight: bold;\n",
       "  display: inline-block;\n",
       "  line-height: 1.2em;\n",
       "}\n",
       "\n",
       "#sk-container-id-1 div.sk-label-container {\n",
       "  text-align: center;\n",
       "}\n",
       "\n",
       "/* Estimator-specific */\n",
       "#sk-container-id-1 div.sk-estimator {\n",
       "  font-family: monospace;\n",
       "  border: 1px dotted var(--sklearn-color-border-box);\n",
       "  border-radius: 0.25em;\n",
       "  box-sizing: border-box;\n",
       "  margin-bottom: 0.5em;\n",
       "  /* unfitted */\n",
       "  background-color: var(--sklearn-color-unfitted-level-0);\n",
       "}\n",
       "\n",
       "#sk-container-id-1 div.sk-estimator.fitted {\n",
       "  /* fitted */\n",
       "  background-color: var(--sklearn-color-fitted-level-0);\n",
       "}\n",
       "\n",
       "/* on hover */\n",
       "#sk-container-id-1 div.sk-estimator:hover {\n",
       "  /* unfitted */\n",
       "  background-color: var(--sklearn-color-unfitted-level-2);\n",
       "}\n",
       "\n",
       "#sk-container-id-1 div.sk-estimator.fitted:hover {\n",
       "  /* fitted */\n",
       "  background-color: var(--sklearn-color-fitted-level-2);\n",
       "}\n",
       "\n",
       "/* Specification for estimator info (e.g. \"i\" and \"?\") */\n",
       "\n",
       "/* Common style for \"i\" and \"?\" */\n",
       "\n",
       ".sk-estimator-doc-link,\n",
       "a:link.sk-estimator-doc-link,\n",
       "a:visited.sk-estimator-doc-link {\n",
       "  float: right;\n",
       "  font-size: smaller;\n",
       "  line-height: 1em;\n",
       "  font-family: monospace;\n",
       "  background-color: var(--sklearn-color-background);\n",
       "  border-radius: 1em;\n",
       "  height: 1em;\n",
       "  width: 1em;\n",
       "  text-decoration: none !important;\n",
       "  margin-left: 1ex;\n",
       "  /* unfitted */\n",
       "  border: var(--sklearn-color-unfitted-level-1) 1pt solid;\n",
       "  color: var(--sklearn-color-unfitted-level-1);\n",
       "}\n",
       "\n",
       ".sk-estimator-doc-link.fitted,\n",
       "a:link.sk-estimator-doc-link.fitted,\n",
       "a:visited.sk-estimator-doc-link.fitted {\n",
       "  /* fitted */\n",
       "  border: var(--sklearn-color-fitted-level-1) 1pt solid;\n",
       "  color: var(--sklearn-color-fitted-level-1);\n",
       "}\n",
       "\n",
       "/* On hover */\n",
       "div.sk-estimator:hover .sk-estimator-doc-link:hover,\n",
       ".sk-estimator-doc-link:hover,\n",
       "div.sk-label-container:hover .sk-estimator-doc-link:hover,\n",
       ".sk-estimator-doc-link:hover {\n",
       "  /* unfitted */\n",
       "  background-color: var(--sklearn-color-unfitted-level-3);\n",
       "  color: var(--sklearn-color-background);\n",
       "  text-decoration: none;\n",
       "}\n",
       "\n",
       "div.sk-estimator.fitted:hover .sk-estimator-doc-link.fitted:hover,\n",
       ".sk-estimator-doc-link.fitted:hover,\n",
       "div.sk-label-container:hover .sk-estimator-doc-link.fitted:hover,\n",
       ".sk-estimator-doc-link.fitted:hover {\n",
       "  /* fitted */\n",
       "  background-color: var(--sklearn-color-fitted-level-3);\n",
       "  color: var(--sklearn-color-background);\n",
       "  text-decoration: none;\n",
       "}\n",
       "\n",
       "/* Span, style for the box shown on hovering the info icon */\n",
       ".sk-estimator-doc-link span {\n",
       "  display: none;\n",
       "  z-index: 9999;\n",
       "  position: relative;\n",
       "  font-weight: normal;\n",
       "  right: .2ex;\n",
       "  padding: .5ex;\n",
       "  margin: .5ex;\n",
       "  width: min-content;\n",
       "  min-width: 20ex;\n",
       "  max-width: 50ex;\n",
       "  color: var(--sklearn-color-text);\n",
       "  box-shadow: 2pt 2pt 4pt #999;\n",
       "  /* unfitted */\n",
       "  background: var(--sklearn-color-unfitted-level-0);\n",
       "  border: .5pt solid var(--sklearn-color-unfitted-level-3);\n",
       "}\n",
       "\n",
       ".sk-estimator-doc-link.fitted span {\n",
       "  /* fitted */\n",
       "  background: var(--sklearn-color-fitted-level-0);\n",
       "  border: var(--sklearn-color-fitted-level-3);\n",
       "}\n",
       "\n",
       ".sk-estimator-doc-link:hover span {\n",
       "  display: block;\n",
       "}\n",
       "\n",
       "/* \"?\"-specific style due to the `<a>` HTML tag */\n",
       "\n",
       "#sk-container-id-1 a.estimator_doc_link {\n",
       "  float: right;\n",
       "  font-size: 1rem;\n",
       "  line-height: 1em;\n",
       "  font-family: monospace;\n",
       "  background-color: var(--sklearn-color-background);\n",
       "  border-radius: 1rem;\n",
       "  height: 1rem;\n",
       "  width: 1rem;\n",
       "  text-decoration: none;\n",
       "  /* unfitted */\n",
       "  color: var(--sklearn-color-unfitted-level-1);\n",
       "  border: var(--sklearn-color-unfitted-level-1) 1pt solid;\n",
       "}\n",
       "\n",
       "#sk-container-id-1 a.estimator_doc_link.fitted {\n",
       "  /* fitted */\n",
       "  border: var(--sklearn-color-fitted-level-1) 1pt solid;\n",
       "  color: var(--sklearn-color-fitted-level-1);\n",
       "}\n",
       "\n",
       "/* On hover */\n",
       "#sk-container-id-1 a.estimator_doc_link:hover {\n",
       "  /* unfitted */\n",
       "  background-color: var(--sklearn-color-unfitted-level-3);\n",
       "  color: var(--sklearn-color-background);\n",
       "  text-decoration: none;\n",
       "}\n",
       "\n",
       "#sk-container-id-1 a.estimator_doc_link.fitted:hover {\n",
       "  /* fitted */\n",
       "  background-color: var(--sklearn-color-fitted-level-3);\n",
       "}\n",
       "</style><div id=\"sk-container-id-1\" class=\"sk-top-container\"><div class=\"sk-text-repr-fallback\"><pre>GridSearchCV(cv=5,\n",
       "             estimator=Pipeline(steps=[(&#x27;Preprocessor&#x27;, CountVectorizer()),\n",
       "                                       (&#x27;regressor&#x27;, LogisticRegression())]),\n",
       "             param_grid=[{&#x27;regressor&#x27;: [DecisionTreeRegressor()],\n",
       "                          &#x27;regressor__max_depth&#x27;: range(1, 30, 10),\n",
       "                          &#x27;regressor__min_samples_split&#x27;: range(2, 30, 5)},\n",
       "                         {&#x27;regressor&#x27;: [LogisticRegression(solver=&#x27;liblinear&#x27;)],\n",
       "                          &#x27;regressor__C&#x27;: array([1.e+04, 1.e+03, 1.e+02, 1.e+01, 1.e+00, 1.e-01, 1.e-02]),\n",
       "                          &#x27;regressor__penalty&#x27;: [&#x27;l1&#x27;, &#x27;l2&#x27;]}],\n",
       "             scoring=&#x27;accuracy&#x27;)</pre><b>In a Jupyter environment, please rerun this cell to show the HTML representation or trust the notebook. <br />On GitHub, the HTML representation is unable to render, please try loading this page with nbviewer.org.</b></div><div class=\"sk-container\" hidden><div class=\"sk-item sk-dashed-wrapped\"><div class=\"sk-label-container\"><div class=\"sk-label fitted sk-toggleable\"><input class=\"sk-toggleable__control sk-hidden--visually\" id=\"sk-estimator-id-1\" type=\"checkbox\" ><label for=\"sk-estimator-id-1\" class=\"sk-toggleable__label fitted sk-toggleable__label-arrow fitted\">&nbsp;&nbsp;GridSearchCV<a class=\"sk-estimator-doc-link fitted\" rel=\"noreferrer\" target=\"_blank\" href=\"https://scikit-learn.org/1.5/modules/generated/sklearn.model_selection.GridSearchCV.html\">?<span>Documentation for GridSearchCV</span></a><span class=\"sk-estimator-doc-link fitted\">i<span>Fitted</span></span></label><div class=\"sk-toggleable__content fitted\"><pre>GridSearchCV(cv=5,\n",
       "             estimator=Pipeline(steps=[(&#x27;Preprocessor&#x27;, CountVectorizer()),\n",
       "                                       (&#x27;regressor&#x27;, LogisticRegression())]),\n",
       "             param_grid=[{&#x27;regressor&#x27;: [DecisionTreeRegressor()],\n",
       "                          &#x27;regressor__max_depth&#x27;: range(1, 30, 10),\n",
       "                          &#x27;regressor__min_samples_split&#x27;: range(2, 30, 5)},\n",
       "                         {&#x27;regressor&#x27;: [LogisticRegression(solver=&#x27;liblinear&#x27;)],\n",
       "                          &#x27;regressor__C&#x27;: array([1.e+04, 1.e+03, 1.e+02, 1.e+01, 1.e+00, 1.e-01, 1.e-02]),\n",
       "                          &#x27;regressor__penalty&#x27;: [&#x27;l1&#x27;, &#x27;l2&#x27;]}],\n",
       "             scoring=&#x27;accuracy&#x27;)</pre></div> </div></div><div class=\"sk-parallel\"><div class=\"sk-parallel-item\"><div class=\"sk-item\"><div class=\"sk-label-container\"><div class=\"sk-label fitted sk-toggleable\"><input class=\"sk-toggleable__control sk-hidden--visually\" id=\"sk-estimator-id-2\" type=\"checkbox\" ><label for=\"sk-estimator-id-2\" class=\"sk-toggleable__label fitted sk-toggleable__label-arrow fitted\">best_estimator_: Pipeline</label><div class=\"sk-toggleable__content fitted\"><pre>Pipeline(steps=[(&#x27;Preprocessor&#x27;, CountVectorizer()),\n",
       "                (&#x27;regressor&#x27;,\n",
       "                 LogisticRegression(C=np.float64(1.0), solver=&#x27;liblinear&#x27;))])</pre></div> </div></div><div class=\"sk-serial\"><div class=\"sk-item\"><div class=\"sk-serial\"><div class=\"sk-item\"><div class=\"sk-estimator fitted sk-toggleable\"><input class=\"sk-toggleable__control sk-hidden--visually\" id=\"sk-estimator-id-3\" type=\"checkbox\" ><label for=\"sk-estimator-id-3\" class=\"sk-toggleable__label fitted sk-toggleable__label-arrow fitted\">&nbsp;CountVectorizer<a class=\"sk-estimator-doc-link fitted\" rel=\"noreferrer\" target=\"_blank\" href=\"https://scikit-learn.org/1.5/modules/generated/sklearn.feature_extraction.text.CountVectorizer.html\">?<span>Documentation for CountVectorizer</span></a></label><div class=\"sk-toggleable__content fitted\"><pre>CountVectorizer()</pre></div> </div></div><div class=\"sk-item\"><div class=\"sk-estimator fitted sk-toggleable\"><input class=\"sk-toggleable__control sk-hidden--visually\" id=\"sk-estimator-id-4\" type=\"checkbox\" ><label for=\"sk-estimator-id-4\" class=\"sk-toggleable__label fitted sk-toggleable__label-arrow fitted\">&nbsp;LogisticRegression<a class=\"sk-estimator-doc-link fitted\" rel=\"noreferrer\" target=\"_blank\" href=\"https://scikit-learn.org/1.5/modules/generated/sklearn.linear_model.LogisticRegression.html\">?<span>Documentation for LogisticRegression</span></a></label><div class=\"sk-toggleable__content fitted\"><pre>LogisticRegression(C=np.float64(1.0), solver=&#x27;liblinear&#x27;)</pre></div> </div></div></div></div></div></div></div></div></div></div></div>"
      ],
      "text/plain": [
       "GridSearchCV(cv=5,\n",
       "             estimator=Pipeline(steps=[('Preprocessor', CountVectorizer()),\n",
       "                                       ('regressor', LogisticRegression())]),\n",
       "             param_grid=[{'regressor': [DecisionTreeRegressor()],\n",
       "                          'regressor__max_depth': range(1, 30, 10),\n",
       "                          'regressor__min_samples_split': range(2, 30, 5)},\n",
       "                         {'regressor': [LogisticRegression(solver='liblinear')],\n",
       "                          'regressor__C': array([1.e+04, 1.e+03, 1.e+02, 1.e+01, 1.e+00, 1.e-01, 1.e-02]),\n",
       "                          'regressor__penalty': ['l1', 'l2']}],\n",
       "             scoring='accuracy')"
      ]
     },
     "execution_count": 37,
     "metadata": {},
     "output_type": "execute_result"
    }
   ],
   "source": [
    "mod.fit(X_train, y_train)"
   ]
  },
  {
   "cell_type": "markdown",
   "metadata": {},
   "source": [
    "In order to develop an effective model to classify tweets based on their sentiments, we implemented and evaluated two different machine learning models, which are decision tree regressor and logistic regression regressor. Given the textual nature of the data where each tweet is composed of unstructured text, it is important to preprocess the data appropriately to make it suitable for machine learning algorithms.\n",
    "\n",
    "By processing the dataset into the target variable and the feature variables for both training and testing datasets, we obtain our feature variable from our dataset which is the text of the tweets. Since it is unstructured data and it requires transformation into a numerical format, we utilized the CountVectorizer from scikitlearn to make it suitable for machine learning algorithms, which converts the text data into a matrix of token counts by effectively capturing the frequency of words used in each tweet.\n",
    "\n",
    "To optimize the model's performance, we constructed a pipeline that integrated the preprocessing step with both logistic regression regressor and decision tree regressor so that we can compare different machine learning algorithms to explore their potentials in handling this classification problem due to its ability to model complex nonlinear relationships. We conducted an extensive grid search over a range of hyperparameters to tune the models. For decision tree regressor, we explored the max depth parameter from 1 to 30 with increments of 10 and adjusted the min samples split from 2 to 30 with increments of 5 where these hyperparameters control the complexity of the tree and the minimum number of samples required to split an internal node respectively. For the logistic regression regressor, we experimented different regularization penalties of l1 and l2 penalties with varied the inverse regularization strength C from 1 / 0.0001 to 1 / 100, which allows us to balance the trade off between model complexity and performance. Futhermore, these models were evaluated using 5 fold cross validation with accuracy as the scoring metric to ensure a robust assessment of their predictive performance. With 5 fold cross validation, it helps us to assess how the results of our model will generalize to an new dataset as well as preventing overfitting.\n",
    "\n",
    "While our models significantly improve the efficiency of processing customer service through social media platforms by automatically classifying tweet sentiments, it is crucial to acknowledge their limitations because models may not capture all the details in these tweets like sarcasm and idiomatic expression. For instance, a tweet with sarcastic language may be misclassified as positive tweet without human supervision. Therefore, integrating advance machine learning models could improve the overall effectiveness of the sentiment analysis system.\n",
    "\n",
    "As one can see, by experimenting  both logistic regression regressor and decision tree regressor with well constructed pipelines and optimizing their hyperparameters, we have developed a strong sentiment classifier that enables our customer service team to make correct decisions from tweets so that we can improve our engagement with customers and maintain each airline's reputation in the fast paced environment of social media during the digital era."
   ]
  },
  {
   "cell_type": "markdown",
   "metadata": {},
   "source": [
    "## Results"
   ]
  },
  {
   "cell_type": "code",
   "execution_count": 38,
   "metadata": {},
   "outputs": [
    {
     "name": "stdout",
     "output_type": "stream",
     "text": [
      "Best parameters found: {'regressor': LogisticRegression(solver='liblinear'), 'regressor__C': np.float64(1.0), 'regressor__penalty': 'l2'}\n",
      "Best cross-validated accuracy: 0.7859137826350941\n",
      "Test accuracy: 0.80\n"
     ]
    }
   ],
   "source": [
    "# report model metrics\n",
    "# print search results\n",
    "print(\"Best parameters found:\", mod.best_params_)\n",
    "print(\"Best cross-validated accuracy:\", mod.best_score_)\n",
    "\n",
    "# evaluate and print test metrics\n",
    "test_score = mod.score(X_test, y_test)\n",
    "print(f\"Test accuracy: {test_score:.2f}\")"
   ]
  },
  {
   "cell_type": "code",
   "execution_count": 39,
   "metadata": {},
   "outputs": [
    {
     "data": {
      "text/plain": [
       "['airline-sentiment.joblib']"
      ]
     },
     "execution_count": 39,
     "metadata": {},
     "output_type": "execute_result"
    }
   ],
   "source": [
    "from joblib import dump\n",
    "dump(mod, \"airline-sentiment.joblib\")"
   ]
  },
  {
   "cell_type": "markdown",
   "metadata": {},
   "source": [
    "After training and validation, the we identified the optimal hyperparameters from GridSearchCV is the logistic regression regressor with a penalty of l2 and a regularization strength of C = 1.0. By utilizing the logistic regression regressor with these optimized parameters, our model effectively classifies tweets into negative, neutral, or positive sentiments. This significantly improves our ability to monitor and respond to customer feedback on social media which perfectly alligns with our goal to improve customer engagement and satisfaction.\n",
    "\n",
    "To develop a efficient sentiment classifier with strong predictive power, we constructed a machine learning pipeline that integrates text preprocessing by using the CountVectorizer to convert the textual tweet data into numerical features in order to transform each tweet into a vector of word counts, which is an important step to handle unstructured text data and preparing it for model training.\n",
    "\n",
    "We also explored both logistic regression regressor and decision tree regressor within our pipeline to determine the optimal performance. we performed an extensive grid search using GridSearchCV over a range of hyperparameters for both models. For the logistic regression regressor, we experimented with different regularization penalties of l1 and l2 to prevent overfitting and varied the inverse regularization strength across several orders of magnitude by computing C from 1 / 0.0001 to 1 / 100. For the decision tree regressor, we used parameters of max depth from 1 to 30 with increments of 10 and min samples split from 2 to 30 with increments of 5 to control the complexity of the tree.\n",
    "\n",
    "Then, we evaluated the performance of each model using 5 fold cross validation with accuracy as the scoring metric which ensures that the model's ability to generalize on unforeseen dataset. As a result, the GridSearchCV revealed that the Logistic Regression model with an l2 penalty and C = 1.0 achieved the best performance, with a best cross validated accuracy of 0.7859137826350941 and a test accuracy of 0.8. In contrast, the decision tree regressor did not perform as well because it is not inherently designed for classification tasks which may not effectively handle discrete sentiment categories. Therefore, the high test accuracy demonstrates the model's effectiveness in accurately identifying different types of tweets. With its ability to handle large volume of text data and makes correct sentiment classifications, the logistic regression regressor becomes the best choice for our application.\n",
    "\n",
    "By integrating this model into our social media monitoring system, we can efficiently process the huge amount of tweets that are directed at our airline and effectively addressing customers' feedback, which streamlines our customer service operations as well as increasing our brand reputation. Despite the fact that our current model performs well on this dataset, we have to acknowledge that natural language processing is a complex field with. Without incorporating advanced text features, we might not be able to capture more detailed textual information and further enhance performance. For instance, developing a machine learning model to detect sarcasm or understand context could significantly enhance classification accuracy for tweets with implicit sentiments.\n",
    "\n",
    "As one can see, by continuously refining our model and incorporating new features, we aim to maintain a high accuracy of classifying customer engagement and satisfaction on social media platforms. With our high predictive power machine learning models for sentiment analysis, we can better navigate the dynamic landscape of social media interactions and improved customer satisfaction for each airline."
   ]
  },
  {
   "cell_type": "markdown",
   "metadata": {},
   "source": [
    "## Discussion"
   ]
  },
  {
   "cell_type": "markdown",
   "metadata": {},
   "source": [
    "By utilizing a sentiment classifier to monitor tweets for each airline, there are several potential mistakes could arise from the model's limitations which could lead to sever issues. One of the primary concerns is the misclassification of negative tweets as neutral or negative tweets since the false negative tweets are particularly severe on account of the fact that failing to address these issues could lead to increased customer dissatisfaction and potential loss of our clients, which negatively damage each airline's reputation and revenue. \n",
    "\n",
    "Conversely, the model might also classify neutral or positive tweets as negative tweets. Although it is less severe than missing negative feedback, this mistake can result in unnecessary allocation of customer service resources to address these issues. For instance, if the model interprets some neutral tweets as negative tweets instead, customer service might confuse the customer with unwarranted apologies or offers of assistance. Hence, this misallocation of resources can reduce the efficiency of our customer service operations since our customer service might spend time addressing tweets that do not require intervention which ultimately diverts attention from customers who need assistance from our customer service. Another potential mistake is the confusion between positive and neutral sentiments. The model may occasionally misclassify neutral content as positive or vice versa which causes more confusions between our customer service and the passengers. For instance, interpreting a neutral statement as positive could trigger an automated response that feels insincere or robotic will diminish credibility among our clients. Conversely, overlooking positive sentiments leads to missing opportunities for meaningful engagement and fostering relationship between our customer service and clients. Thus, these misclassifications underscore the importance of improving our models to effectively interact with different customers.\n",
    "\n",
    "This model also encounters significant challenges when attempting to process the complexities of natural language on  social media platforms. One critical limitation is its inability in detecting advance linguistic features, such as sarcasm, irony, or mixed sentiments. These language forms often carry underlying meanings that contradict their surface expressions which makes them more likely to be misclassified. Therefore, misinterpretations can lead to inappropriate or ineffective responses and lead to negative impacts on our customer service. Another major issue arises from the model's limitation to consider contextual elements where some tweets are often depending on conversational history, previous interactions, or external events. Without a comprehensive understanding of these factors, the model risks oversimplifying sentiments or missing critical emotional expressions, which can result in ignoring customer concerns repeatedly.\n",
    "\n",
    "Handling ambiguous or multifaceted sentiments also presents difficulties since social media platforms often blend positive and negative emotions in a single tweet. The model trend to classify such messages into singular categories may lead to incomplete interpretations which leads to failures to address specific concerns or appreciate positive feedback. Additionally, the model struggles with distinguishing between meaningful feedback and irrelevant content like spams or promotional materials where misclassifications in this area would waste operational resources and expose the organization to reputational risks. Futhermore, new slang, abbreviations, and expressions frequently emerge on social media platforms which makes our model less likely to classify these tweets; this limitation reduces our model's capacity to engage effectively with our customers and maintain relevance in the digital era. These challenges highlight the need for a more robust approach to sentiment analysis, incorporating advanced contextual understanding, adaptive learning mechanisms, and continuous updates to ensure alignment with evolving language trends. Addressing these limitations is essential for delivering accurate, personalized, and meaningful interactions that enhance customer engagement and trust.\n",
    "\n",
    "As one can see, it is vital that we need to be aware of these potential mistakes even though our sentiment classifier improves our ability to process and respond to customer feedback efficiently where severities of these mistakes range from inefficient use of resources to significant impacts on customer satisfaction and brand reputation. By implementing additional features like incorporating advanced natural language processing techniques to detect sarcasm and context and regularly updating the model to accommodate different context, these approaches could address these challenges so that we can confidently use the model to support our customer service and maintain improve customer satisfaction and loyalty un the near future."
   ]
  },
  {
   "cell_type": "markdown",
   "metadata": {},
   "source": [
    "### Conclusion"
   ]
  },
  {
   "cell_type": "markdown",
   "metadata": {},
   "source": [
    "In this research, we developed a sentiment classifier by experimenting logistic regression regressor and decision tree regressor to categorize tweets that are directed at each airline into negative, neutral, or positive sentiments. The model was optimized through GridSearchCV with the best parameters of the logistic regression regressor with l2 penalty and a regularization strength of C = 1.0. The model achieved a best cross validated accuracy of 0.7859137826350941 and a test accuracy of 0.80, which indicates an outstanding performance in classifying sentiments based on textual data.\n",
    "\n",
    "However, we would not recommend implementing this model in practice on account of its significant drawbacks which means that deploying this model in real world scenario is not feasible. One critical concern is that the misclassification of negative tweets as neutral or positive tweets where customer complaints might go unnoticed. Thus, the lack of timely response can exacerbate customer dissatisfaction and harm each airline's reputation that could result in the loss of customer satisfaction and revenue.\n",
    "\n",
    "The model also struggles with detecting sarcasm, irony, and advanced language usage in social media communication. Misinterpreting sarcastic complaints as positive sentiments can lead to inappropriate responses, which could further frustrate customers during their traveling. In addition, the model's inability to handle ambiguous or mixed sentiments leads significant challenges since most of the tweets contain complex sentiments or references about previous interactions that the model cannot accurately interpret without contextual information, which results in inadequate responses that fail to fully address customer feedback. Moreover, the reliance on historical data means the model may not adapt well to new slang and abbreviations where misinterpretation of new expressions or trending phrases could result in inappropriate responses and significantly decrease customer satisfaction.\n",
    "\n",
    "Given these limitations, the risks that are associated with misclassifications outweigh the benefits of automating sentiment analysis with the current model's capabilities. Therefore, despite the model's reasonable accuracy, we recommend not implementing this model in practice. Instead, we suggest to explore more advanced natural language processing techniques that can better handle the complexities of human language, such as sarcasm detection.\n",
    "\n",
    "As one can see, by prioritizing customer satisfaction and brand reputation, we recommend maintaining a human centered approach to monitor and respond to social media tweets with a more reliable and sophisticated machine learning model. Thus, this approach ensures that customer interactions are handled appropriately in the near future."
   ]
  }
 ],
 "metadata": {
  "kernelspec": {
   "display_name": "Python 3",
   "language": "python",
   "name": "python3"
  },
  "language_info": {
   "codemirror_mode": {
    "name": "ipython",
    "version": 3
   },
   "file_extension": ".py",
   "mimetype": "text/x-python",
   "name": "python",
   "nbconvert_exporter": "python",
   "pygments_lexer": "ipython3",
   "version": "3.12.5"
  }
 },
 "nbformat": 4,
 "nbformat_minor": 2
}
