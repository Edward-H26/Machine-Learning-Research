{
 "cells": [
  {
   "cell_type": "markdown",
   "metadata": {},
   "source": [
    "# Lab 00: Football Fourth Down Decisions"
   ]
  },
  {
   "cell_type": "markdown",
   "metadata": {},
   "source": [
    "---\n",
    "author: Qiran Hu\n",
    "date: August 30, 2024\n",
    "embed-resources: true\n",
    "---"
   ]
  },
  {
   "cell_type": "markdown",
   "metadata": {},
   "source": [
    "## Introduction"
   ]
  },
  {
   "cell_type": "markdown",
   "metadata": {},
   "source": [
    "In football, a game divided into four quarters and played by two teams, strategic decisions can significantly influence the outcome. The growing trend among NFL teams to adopt aggressive fourth down strategies underscores the need for accurate predictive models. Creating a model to analyze fourth down conversion attempts in American football is essential given the evolving strategies and increasing complexity of in-game decision-making. These models can help in understanding the probability of converting a fourth down attempt in various game scenarios—information that can critically affect a team's decision to either punt, kick a field goal, or attempt to convert. Decisions made on fourth downs are not just about gaining yards but are a complex interplay of risk, reward, and game dynamics such as time remaining, score margin, and field position. Furthermore, this statistical analysis with strategic game-play elements highlights why constructing such a model is necessary—it integrates science and strategy to enhance performance and decision-making in professional football."
   ]
  },
  {
   "cell_type": "markdown",
   "metadata": {},
   "source": [
    "## Methods"
   ]
  },
  {
   "cell_type": "code",
   "execution_count": 1,
   "metadata": {},
   "outputs": [],
   "source": [
    "# imports\n",
    "import pandas as pd\n",
    "import seaborn as sns\n",
    "import matplotlib.pyplot as plt\n",
    "import numpy as np"
   ]
  },
  {
   "cell_type": "markdown",
   "metadata": {},
   "source": [
    "I developed systematic approach to analyze football fourth down conversion attempts using machine learning. Initially, I prepared the training and testing datasets by separating the target variable converted, which indicates whether a conversion was successful, from the feature sets X_train and X_test. The model of choice for this analysis was the RandomForestClassifier from the sklearn.ensemble package, initialized with 25 trees and a fixed random state for reproducibility. Later, I fitted this model to the X_train and y_train datasets, which allows the RandomForest to learn from the patterns in the data about successful and unsuccessful fourth down attempts. This type of model is particularly appropriate for the task due to its robustness against overfitting and its capability to handle high-dimensional spaces effectively. It also has the advantage of providing insights into the importance of different features in predicting outcomes. Through this methodical preparation and modeling approach, I can predict fourth down conversion outcomes accurately. "
   ]
  },
  {
   "cell_type": "markdown",
   "metadata": {},
   "source": [
    "### Data"
   ]
  },
  {
   "cell_type": "code",
   "execution_count": 2,
   "metadata": {},
   "outputs": [],
   "source": [
    "# load data\n",
    "football_train = pd.read_parquet(\"https://cs307.org/lab-00/data/football-train.parquet\")\n",
    "football_test = pd.read_parquet(\"https://cs307.org/lab-00/data/football-test.parquet\")"
   ]
  },
  {
   "cell_type": "code",
   "execution_count": 3,
   "metadata": {},
   "outputs": [],
   "source": [
    "# create X and y for train\n",
    "X_train = football_train.drop(columns=[\"converted\"])\n",
    "X_train = pd.get_dummies(X_train, dtype=float, drop_first=True)\n",
    "y_train = football_train[\"converted\"]\n",
    "\n",
    "# create X and y for test\n",
    "X_test = football_test.drop(columns=[\"converted\"])\n",
    "X_test = pd.get_dummies(X_test, dtype=float, drop_first=True)\n",
    "y_test = football_test[\"converted\"]"
   ]
  },
  {
   "cell_type": "code",
   "execution_count": 4,
   "metadata": {},
   "outputs": [
    {
     "name": "stdout",
     "output_type": "stream",
     "text": [
      "The number of features are: 3\n",
      "The number of samples are: 1990\n"
     ]
    }
   ],
   "source": [
    "# summary statistics\n",
    "print(f\"The number of features are:\", X_train.shape[1])\n",
    "print(f\"The number of samples are:\", X_train.shape[0])"
   ]
  },
  {
   "cell_type": "code",
   "execution_count": 5,
   "metadata": {},
   "outputs": [
    {
     "data": {
      "text/html": [
       "<div>\n",
       "<style scoped>\n",
       "    .dataframe tbody tr th:only-of-type {\n",
       "        vertical-align: middle;\n",
       "    }\n",
       "\n",
       "    .dataframe tbody tr th {\n",
       "        vertical-align: top;\n",
       "    }\n",
       "\n",
       "    .dataframe thead th {\n",
       "        text-align: right;\n",
       "    }\n",
       "</style>\n",
       "<table border=\"1\" class=\"dataframe\">\n",
       "  <thead>\n",
       "    <tr style=\"text-align: right;\">\n",
       "      <th></th>\n",
       "      <th>togo</th>\n",
       "      <th>yardline</th>\n",
       "      <th>converted</th>\n",
       "      <th>play_type</th>\n",
       "    </tr>\n",
       "  </thead>\n",
       "  <tbody>\n",
       "    <tr>\n",
       "      <th>4</th>\n",
       "      <td>1.0</td>\n",
       "      <td>36.0</td>\n",
       "      <td>No</td>\n",
       "      <td>Run</td>\n",
       "    </tr>\n",
       "    <tr>\n",
       "      <th>6</th>\n",
       "      <td>10.0</td>\n",
       "      <td>60.0</td>\n",
       "      <td>No</td>\n",
       "      <td>Pass</td>\n",
       "    </tr>\n",
       "    <tr>\n",
       "      <th>7</th>\n",
       "      <td>1.0</td>\n",
       "      <td>36.0</td>\n",
       "      <td>No</td>\n",
       "      <td>Run</td>\n",
       "    </tr>\n",
       "    <tr>\n",
       "      <th>8</th>\n",
       "      <td>24.0</td>\n",
       "      <td>90.0</td>\n",
       "      <td>No</td>\n",
       "      <td>Pass</td>\n",
       "    </tr>\n",
       "    <tr>\n",
       "      <th>9</th>\n",
       "      <td>10.0</td>\n",
       "      <td>33.0</td>\n",
       "      <td>No</td>\n",
       "      <td>Run</td>\n",
       "    </tr>\n",
       "    <tr>\n",
       "      <th>...</th>\n",
       "      <td>...</td>\n",
       "      <td>...</td>\n",
       "      <td>...</td>\n",
       "      <td>...</td>\n",
       "    </tr>\n",
       "    <tr>\n",
       "      <th>1980</th>\n",
       "      <td>1.0</td>\n",
       "      <td>66.0</td>\n",
       "      <td>No</td>\n",
       "      <td>Run</td>\n",
       "    </tr>\n",
       "    <tr>\n",
       "      <th>1984</th>\n",
       "      <td>6.0</td>\n",
       "      <td>40.0</td>\n",
       "      <td>No</td>\n",
       "      <td>Pass</td>\n",
       "    </tr>\n",
       "    <tr>\n",
       "      <th>1985</th>\n",
       "      <td>11.0</td>\n",
       "      <td>24.0</td>\n",
       "      <td>No</td>\n",
       "      <td>Pass</td>\n",
       "    </tr>\n",
       "    <tr>\n",
       "      <th>1986</th>\n",
       "      <td>10.0</td>\n",
       "      <td>48.0</td>\n",
       "      <td>No</td>\n",
       "      <td>Pass</td>\n",
       "    </tr>\n",
       "    <tr>\n",
       "      <th>1988</th>\n",
       "      <td>1.0</td>\n",
       "      <td>21.0</td>\n",
       "      <td>No</td>\n",
       "      <td>Pass</td>\n",
       "    </tr>\n",
       "  </tbody>\n",
       "</table>\n",
       "<p>960 rows × 4 columns</p>\n",
       "</div>"
      ],
      "text/plain": [
       "      togo  yardline converted play_type\n",
       "4      1.0      36.0        No       Run\n",
       "6     10.0      60.0        No      Pass\n",
       "7      1.0      36.0        No       Run\n",
       "8     24.0      90.0        No      Pass\n",
       "9     10.0      33.0        No       Run\n",
       "...    ...       ...       ...       ...\n",
       "1980   1.0      66.0        No       Run\n",
       "1984   6.0      40.0        No      Pass\n",
       "1985  11.0      24.0        No      Pass\n",
       "1986  10.0      48.0        No      Pass\n",
       "1988   1.0      21.0        No      Pass\n",
       "\n",
       "[960 rows x 4 columns]"
      ]
     },
     "execution_count": 5,
     "metadata": {},
     "output_type": "execute_result"
    }
   ],
   "source": [
    "football_train[football_train[\"converted\"] == \"No\"]"
   ]
  },
  {
   "cell_type": "code",
   "execution_count": 6,
   "metadata": {},
   "outputs": [
    {
     "data": {
      "text/html": [
       "<div>\n",
       "<style scoped>\n",
       "    .dataframe tbody tr th:only-of-type {\n",
       "        vertical-align: middle;\n",
       "    }\n",
       "\n",
       "    .dataframe tbody tr th {\n",
       "        vertical-align: top;\n",
       "    }\n",
       "\n",
       "    .dataframe thead th {\n",
       "        text-align: right;\n",
       "    }\n",
       "</style>\n",
       "<table border=\"1\" class=\"dataframe\">\n",
       "  <thead>\n",
       "    <tr style=\"text-align: right;\">\n",
       "      <th></th>\n",
       "      <th>togo</th>\n",
       "      <th>yardline</th>\n",
       "      <th>converted</th>\n",
       "      <th>play_type</th>\n",
       "    </tr>\n",
       "  </thead>\n",
       "  <tbody>\n",
       "    <tr>\n",
       "      <th>0</th>\n",
       "      <td>5.0</td>\n",
       "      <td>20.0</td>\n",
       "      <td>Yes</td>\n",
       "      <td>Pass</td>\n",
       "    </tr>\n",
       "    <tr>\n",
       "      <th>1</th>\n",
       "      <td>2.0</td>\n",
       "      <td>23.0</td>\n",
       "      <td>Yes</td>\n",
       "      <td>Pass</td>\n",
       "    </tr>\n",
       "    <tr>\n",
       "      <th>2</th>\n",
       "      <td>1.0</td>\n",
       "      <td>70.0</td>\n",
       "      <td>Yes</td>\n",
       "      <td>Run</td>\n",
       "    </tr>\n",
       "    <tr>\n",
       "      <th>3</th>\n",
       "      <td>3.0</td>\n",
       "      <td>3.0</td>\n",
       "      <td>Yes</td>\n",
       "      <td>Pass</td>\n",
       "    </tr>\n",
       "    <tr>\n",
       "      <th>5</th>\n",
       "      <td>1.0</td>\n",
       "      <td>66.0</td>\n",
       "      <td>Yes</td>\n",
       "      <td>Run</td>\n",
       "    </tr>\n",
       "    <tr>\n",
       "      <th>...</th>\n",
       "      <td>...</td>\n",
       "      <td>...</td>\n",
       "      <td>...</td>\n",
       "      <td>...</td>\n",
       "    </tr>\n",
       "    <tr>\n",
       "      <th>1981</th>\n",
       "      <td>4.0</td>\n",
       "      <td>15.0</td>\n",
       "      <td>Yes</td>\n",
       "      <td>Pass</td>\n",
       "    </tr>\n",
       "    <tr>\n",
       "      <th>1982</th>\n",
       "      <td>2.0</td>\n",
       "      <td>25.0</td>\n",
       "      <td>Yes</td>\n",
       "      <td>Pass</td>\n",
       "    </tr>\n",
       "    <tr>\n",
       "      <th>1983</th>\n",
       "      <td>1.0</td>\n",
       "      <td>31.0</td>\n",
       "      <td>Yes</td>\n",
       "      <td>Pass</td>\n",
       "    </tr>\n",
       "    <tr>\n",
       "      <th>1987</th>\n",
       "      <td>2.0</td>\n",
       "      <td>40.0</td>\n",
       "      <td>Yes</td>\n",
       "      <td>Pass</td>\n",
       "    </tr>\n",
       "    <tr>\n",
       "      <th>1989</th>\n",
       "      <td>2.0</td>\n",
       "      <td>25.0</td>\n",
       "      <td>Yes</td>\n",
       "      <td>Pass</td>\n",
       "    </tr>\n",
       "  </tbody>\n",
       "</table>\n",
       "<p>1030 rows × 4 columns</p>\n",
       "</div>"
      ],
      "text/plain": [
       "      togo  yardline converted play_type\n",
       "0      5.0      20.0       Yes      Pass\n",
       "1      2.0      23.0       Yes      Pass\n",
       "2      1.0      70.0       Yes       Run\n",
       "3      3.0       3.0       Yes      Pass\n",
       "5      1.0      66.0       Yes       Run\n",
       "...    ...       ...       ...       ...\n",
       "1981   4.0      15.0       Yes      Pass\n",
       "1982   2.0      25.0       Yes      Pass\n",
       "1983   1.0      31.0       Yes      Pass\n",
       "1987   2.0      40.0       Yes      Pass\n",
       "1989   2.0      25.0       Yes      Pass\n",
       "\n",
       "[1030 rows x 4 columns]"
      ]
     },
     "execution_count": 6,
     "metadata": {},
     "output_type": "execute_result"
    }
   ],
   "source": [
    "football_train[football_train[\"converted\"] == \"Yes\"]"
   ]
  },
  {
   "cell_type": "code",
   "execution_count": 7,
   "metadata": {},
   "outputs": [
    {
     "data": {
      "image/png": "[encoded data removed]",
      "text/plain": [
       "<Figure size 640x480 with 1 Axes>"
      ]
     },
     "metadata": {},
     "output_type": "display_data"
    }
   ],
   "source": [
    "# visualizations\n",
    "import matplotlib.pyplot as plt\n",
    "plt.bar(football_train[\"converted\"], football_train[\"yardline\"])\n",
    "plt.title(\"Football Game Yard Line Based On Fourth Down Decisions\")\n",
    "plt.xlabel(\"Converted Decision\")\n",
    "plt.ylabel(\"Yard Line In Foot Ball Game\")\n",
    "plt.show()"
   ]
  },
  {
   "cell_type": "markdown",
   "metadata": {},
   "source": [
    "### Models"
   ]
  },
  {
   "cell_type": "code",
   "execution_count": 8,
   "metadata": {},
   "outputs": [],
   "source": [
    "# process data for ML\n",
    "from sklearn.ensemble import RandomForestClassifier"
   ]
  },
  {
   "cell_type": "code",
   "execution_count": 9,
   "metadata": {},
   "outputs": [],
   "source": [
    "# train models\n",
    "mod = RandomForestClassifier(n_estimators=25, random_state=42)"
   ]
  },
  {
   "cell_type": "code",
   "execution_count": 10,
   "metadata": {},
   "outputs": [],
   "source": [
    "# Data provided in the prompt\n",
    "_ = mod.fit(X_train, y_train)"
   ]
  },
  {
   "cell_type": "markdown",
   "metadata": {},
   "source": [
    "## Results"
   ]
  },
  {
   "cell_type": "code",
   "execution_count": 11,
   "metadata": {},
   "outputs": [
    {
     "data": {
      "text/plain": [
       "['fourth-down.joblib']"
      ]
     },
     "execution_count": 11,
     "metadata": {},
     "output_type": "execute_result"
    }
   ],
   "source": [
    "# report model metrics\n",
    "from joblib import dump\n",
    "dump(mod, \"fourth-down.joblib\")"
   ]
  },
  {
   "cell_type": "markdown",
   "metadata": {},
   "source": [
    "The model we created had a test accuracy of 0.57 and a production accuracy of 0.62, which demonstrates the model is fairly accurate."
   ]
  },
  {
   "cell_type": "markdown",
   "metadata": {},
   "source": [
    "## Discussion"
   ]
  },
  {
   "cell_type": "markdown",
   "metadata": {},
   "source": [
    "The RandomForestClassifier model we developed achieved a test accuracy of 0.57 and a production accuracy of 0.62. These results suggest that the model performs moderately well, indicating a reasonable level of predictive power. Given the nature of football data, which typically does not undergo drastic changes from year to year, it's plausible to expect similar performance when applying the model to more recent datasets. Even though accuracy is a straightforward metric, it might not be the best choice in all scenarios. Accuracy does not differentiate between the types of errors made. For instance, in the context of fourth down attempts, the cost of falsely predicting a conversion could be very different from wrongly predicting a failure. A false positive might lead to a risky strategy that causes a turnover in a critical game situation, where a false negative might result in a missed opportunity to score. Despite the fact that accuracy treats both errors equally, their consequences can be dramatically different in the impact they have on game outcomes. However, the performance could be further enhanced through improved data handling and model training techniques. One key area is the randomization of data during the training process. Effective randomization helps in reducing bias and variance, ensuring that the model is neither overfitting nor underfitting. Although achieving perfect randomization is challenging, striving for better randomization can lead to more generalized models. Despite the current satisfactory performance, we can not solely relying on this model for future predictions. Using the same trained data repeatedly can result in the model being overly adapted to the specific patterns and noise present in the training dataset, rather than capturing the underlying relationships necessary for accurate predictions on new, unseen data. This overfitting can lead to poor performance when the model encounters data that deviates even slightly from the training set's characteristics."
   ]
  },
  {
   "cell_type": "markdown",
   "metadata": {},
   "source": [
    "### Conclusion"
   ]
  },
  {
   "cell_type": "markdown",
   "metadata": {},
   "source": [
    "Our model, which focused on analyzing fourth down conversion attempts, demonstrated a test accuracy of 0.57 and a production accuracy of 0.62. Although these figures suggest that the model performs well, there's significant room for increasing its predictive accuracy on unseen data. The discrepancy between the test and production accuracies indicates that the model might not be capturing all the variables influencing fourth down decisions. Thus, a model with a higher test accuracy would enhance its applicability to new data sets, making it more robust and reliable for real-world applications, which could be particularly important in dynamic environments like football."
   ]
  }
 ],
 "metadata": {
  "kernelspec": {
   "display_name": "Python 3",
   "language": "python",
   "name": "python3"
  },
  "language_info": {
   "codemirror_mode": {
    "name": "ipython",
    "version": 3
   },
   "file_extension": ".py",
   "mimetype": "text/x-python",
   "name": "python",
   "nbconvert_exporter": "python",
   "pygments_lexer": "ipython3",
   "version": "3.12.5"
  }
 },
 "nbformat": 4,
 "nbformat_minor": 2
}
